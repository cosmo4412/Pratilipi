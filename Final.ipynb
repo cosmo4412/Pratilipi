{
 "cells": [
  {
   "cell_type": "code",
   "execution_count": 1,
   "id": "00aa1055",
   "metadata": {},
   "outputs": [],
   "source": [
    "import numpy as np\n",
    "import pandas as pd\n",
    "\n",
    "import statistics"
   ]
  },
  {
   "cell_type": "markdown",
   "id": "27d805d3",
   "metadata": {},
   "source": [
    "# Importing Datasets"
   ]
  },
  {
   "cell_type": "markdown",
   "id": "c3e3d46b",
   "metadata": {},
   "source": [
    "## Importing and preprocessing metadata "
   ]
  },
  {
   "cell_type": "code",
   "execution_count": 2,
   "id": "1ac7d819",
   "metadata": {},
   "outputs": [
    {
     "data": {
      "text/html": [
       "<div>\n",
       "<style scoped>\n",
       "    .dataframe tbody tr th:only-of-type {\n",
       "        vertical-align: middle;\n",
       "    }\n",
       "\n",
       "    .dataframe tbody tr th {\n",
       "        vertical-align: top;\n",
       "    }\n",
       "\n",
       "    .dataframe thead th {\n",
       "        text-align: right;\n",
       "    }\n",
       "</style>\n",
       "<table border=\"1\" class=\"dataframe\">\n",
       "  <thead>\n",
       "    <tr style=\"text-align: right;\">\n",
       "      <th></th>\n",
       "      <th>author_id</th>\n",
       "      <th>pratilipi_id</th>\n",
       "      <th>category_name</th>\n",
       "      <th>reading_time</th>\n",
       "      <th>updated_at</th>\n",
       "      <th>published_at</th>\n",
       "    </tr>\n",
       "  </thead>\n",
       "  <tbody>\n",
       "    <tr>\n",
       "      <th>0</th>\n",
       "      <td>-3418949279741297</td>\n",
       "      <td>1025741862639304</td>\n",
       "      <td>translation</td>\n",
       "      <td>0</td>\n",
       "      <td>2020-08-19 15:26:13</td>\n",
       "      <td>2016-09-30 10:37:04</td>\n",
       "    </tr>\n",
       "    <tr>\n",
       "      <th>1</th>\n",
       "      <td>-2270332351871840</td>\n",
       "      <td>1377786215601277</td>\n",
       "      <td>translation</td>\n",
       "      <td>171</td>\n",
       "      <td>2021-01-21 16:27:07</td>\n",
       "      <td>2018-06-11 13:17:48</td>\n",
       "    </tr>\n",
       "    <tr>\n",
       "      <th>2</th>\n",
       "      <td>-2270332352037261</td>\n",
       "      <td>1377786215601962</td>\n",
       "      <td>translation</td>\n",
       "      <td>92</td>\n",
       "      <td>2020-09-29 12:33:57</td>\n",
       "      <td>2018-06-12 04:19:12</td>\n",
       "    </tr>\n",
       "    <tr>\n",
       "      <th>3</th>\n",
       "      <td>-2270332352521845</td>\n",
       "      <td>1377786215640994</td>\n",
       "      <td>translation</td>\n",
       "      <td>0</td>\n",
       "      <td>2019-10-17 09:03:37</td>\n",
       "      <td>2019-09-26 14:58:53</td>\n",
       "    </tr>\n",
       "    <tr>\n",
       "      <th>4</th>\n",
       "      <td>-2270332349665658</td>\n",
       "      <td>1377786215931338</td>\n",
       "      <td>translation</td>\n",
       "      <td>47</td>\n",
       "      <td>2020-05-05 11:33:41</td>\n",
       "      <td>2018-11-25 12:28:23</td>\n",
       "    </tr>\n",
       "    <tr>\n",
       "      <th>...</th>\n",
       "      <td>...</td>\n",
       "      <td>...</td>\n",
       "      <td>...</td>\n",
       "      <td>...</td>\n",
       "      <td>...</td>\n",
       "      <td>...</td>\n",
       "    </tr>\n",
       "    <tr>\n",
       "      <th>954496</th>\n",
       "      <td>-2270332337845247</td>\n",
       "      <td>1377786228358627</td>\n",
       "      <td>Horror-Marathon</td>\n",
       "      <td>304</td>\n",
       "      <td>2022-03-22 17:40:22</td>\n",
       "      <td>2022-03-22 17:40:22</td>\n",
       "    </tr>\n",
       "    <tr>\n",
       "      <th>954497</th>\n",
       "      <td>-2270332334263077</td>\n",
       "      <td>1377786228362002</td>\n",
       "      <td>Horror-Marathon</td>\n",
       "      <td>588</td>\n",
       "      <td>2022-03-22 11:44:39</td>\n",
       "      <td>2022-03-22 11:44:39</td>\n",
       "    </tr>\n",
       "    <tr>\n",
       "      <th>954498</th>\n",
       "      <td>-2270332350350076</td>\n",
       "      <td>1377786228362682</td>\n",
       "      <td>Horror-Marathon</td>\n",
       "      <td>359</td>\n",
       "      <td>2022-03-22 12:39:41</td>\n",
       "      <td>2022-03-22 12:38:40</td>\n",
       "    </tr>\n",
       "    <tr>\n",
       "      <th>954499</th>\n",
       "      <td>-2270332337845247</td>\n",
       "      <td>1377786228375726</td>\n",
       "      <td>Horror-Marathon</td>\n",
       "      <td>310</td>\n",
       "      <td>2022-03-23 15:55:11</td>\n",
       "      <td>2022-03-23 15:55:11</td>\n",
       "    </tr>\n",
       "    <tr>\n",
       "      <th>954500</th>\n",
       "      <td>-2270332334263077</td>\n",
       "      <td>1377786228376825</td>\n",
       "      <td>Horror-Marathon</td>\n",
       "      <td>534</td>\n",
       "      <td>2022-03-23 10:52:43</td>\n",
       "      <td>2022-03-23 10:52:42</td>\n",
       "    </tr>\n",
       "  </tbody>\n",
       "</table>\n",
       "<p>954501 rows × 6 columns</p>\n",
       "</div>"
      ],
      "text/plain": [
       "               author_id      pratilipi_id    category_name  reading_time  \\\n",
       "0      -3418949279741297  1025741862639304      translation             0   \n",
       "1      -2270332351871840  1377786215601277      translation           171   \n",
       "2      -2270332352037261  1377786215601962      translation            92   \n",
       "3      -2270332352521845  1377786215640994      translation             0   \n",
       "4      -2270332349665658  1377786215931338      translation            47   \n",
       "...                  ...               ...              ...           ...   \n",
       "954496 -2270332337845247  1377786228358627  Horror-Marathon           304   \n",
       "954497 -2270332334263077  1377786228362002  Horror-Marathon           588   \n",
       "954498 -2270332350350076  1377786228362682  Horror-Marathon           359   \n",
       "954499 -2270332337845247  1377786228375726  Horror-Marathon           310   \n",
       "954500 -2270332334263077  1377786228376825  Horror-Marathon           534   \n",
       "\n",
       "                 updated_at         published_at  \n",
       "0       2020-08-19 15:26:13  2016-09-30 10:37:04  \n",
       "1       2021-01-21 16:27:07  2018-06-11 13:17:48  \n",
       "2       2020-09-29 12:33:57  2018-06-12 04:19:12  \n",
       "3       2019-10-17 09:03:37  2019-09-26 14:58:53  \n",
       "4       2020-05-05 11:33:41  2018-11-25 12:28:23  \n",
       "...                     ...                  ...  \n",
       "954496  2022-03-22 17:40:22  2022-03-22 17:40:22  \n",
       "954497  2022-03-22 11:44:39  2022-03-22 11:44:39  \n",
       "954498  2022-03-22 12:39:41  2022-03-22 12:38:40  \n",
       "954499  2022-03-23 15:55:11  2022-03-23 15:55:11  \n",
       "954500  2022-03-23 10:52:43  2022-03-23 10:52:42  \n",
       "\n",
       "[954501 rows x 6 columns]"
      ]
     },
     "execution_count": 2,
     "metadata": {},
     "output_type": "execute_result"
    }
   ],
   "source": [
    "metadata = pd.read_csv(\"ds-assignment/ds-assignment/metadata.csv\")\n",
    "metadata"
   ]
  },
  {
   "cell_type": "code",
   "execution_count": 3,
   "id": "98dff68a",
   "metadata": {},
   "outputs": [],
   "source": [
    "# Sorting metadata based on updated_time\n",
    "metadata.sort_values(by='updated_at', ascending=False, inplace=True)"
   ]
  },
  {
   "cell_type": "code",
   "execution_count": 4,
   "id": "912c2924",
   "metadata": {},
   "outputs": [
    {
     "data": {
      "text/html": [
       "<div>\n",
       "<style scoped>\n",
       "    .dataframe tbody tr th:only-of-type {\n",
       "        vertical-align: middle;\n",
       "    }\n",
       "\n",
       "    .dataframe tbody tr th {\n",
       "        vertical-align: top;\n",
       "    }\n",
       "\n",
       "    .dataframe thead th {\n",
       "        text-align: right;\n",
       "    }\n",
       "</style>\n",
       "<table border=\"1\" class=\"dataframe\">\n",
       "  <thead>\n",
       "    <tr style=\"text-align: right;\">\n",
       "      <th></th>\n",
       "      <th>author_id</th>\n",
       "      <th>pratilipi_id</th>\n",
       "      <th>category_name</th>\n",
       "      <th>reading_time</th>\n",
       "      <th>updated_at</th>\n",
       "      <th>published_at</th>\n",
       "    </tr>\n",
       "  </thead>\n",
       "  <tbody>\n",
       "    <tr>\n",
       "      <th>675638</th>\n",
       "      <td>-2270332321908144</td>\n",
       "      <td>1377786228384314</td>\n",
       "      <td>shortstories</td>\n",
       "      <td>196</td>\n",
       "      <td>2022-03-23 21:39:34</td>\n",
       "      <td>2022-03-23 21:39:34</td>\n",
       "    </tr>\n",
       "    <tr>\n",
       "      <th>951396</th>\n",
       "      <td>-2270332321908144</td>\n",
       "      <td>1377786228337492</td>\n",
       "      <td>horror</td>\n",
       "      <td>609</td>\n",
       "      <td>2022-03-23 21:36:51</td>\n",
       "      <td>2022-03-20 22:21:25</td>\n",
       "    </tr>\n",
       "    <tr>\n",
       "      <th>380204</th>\n",
       "      <td>-2270332350073525</td>\n",
       "      <td>1377786223457141</td>\n",
       "      <td>romance</td>\n",
       "      <td>1098</td>\n",
       "      <td>2022-03-23 21:35:39</td>\n",
       "      <td>2021-04-27 14:19:35</td>\n",
       "    </tr>\n",
       "    <tr>\n",
       "      <th>470867</th>\n",
       "      <td>-2270332330846786</td>\n",
       "      <td>1377786228376090</td>\n",
       "      <td>romance</td>\n",
       "      <td>450</td>\n",
       "      <td>2022-03-23 21:30:48</td>\n",
       "      <td>2022-03-23 21:30:48</td>\n",
       "    </tr>\n",
       "    <tr>\n",
       "      <th>459485</th>\n",
       "      <td>-2270332316902090</td>\n",
       "      <td>1377786227927658</td>\n",
       "      <td>romance</td>\n",
       "      <td>52</td>\n",
       "      <td>2022-03-23 21:01:21</td>\n",
       "      <td>2022-03-23 21:01:21</td>\n",
       "    </tr>\n",
       "    <tr>\n",
       "      <th>...</th>\n",
       "      <td>...</td>\n",
       "      <td>...</td>\n",
       "      <td>...</td>\n",
       "      <td>...</td>\n",
       "      <td>...</td>\n",
       "      <td>...</td>\n",
       "    </tr>\n",
       "    <tr>\n",
       "      <th>278977</th>\n",
       "      <td>-4393454997796209</td>\n",
       "      <td>890664018679496</td>\n",
       "      <td>romance</td>\n",
       "      <td>10</td>\n",
       "      <td>2018-08-17 10:28:18</td>\n",
       "      <td>2017-11-11 16:30:26</td>\n",
       "    </tr>\n",
       "    <tr>\n",
       "      <th>181972</th>\n",
       "      <td>-2270332352652975</td>\n",
       "      <td>1377786215566100</td>\n",
       "      <td>family</td>\n",
       "      <td>15</td>\n",
       "      <td>2018-08-17 10:28:18</td>\n",
       "      <td>2018-05-14 21:00:41</td>\n",
       "    </tr>\n",
       "    <tr>\n",
       "      <th>473719</th>\n",
       "      <td>-2270332352705369</td>\n",
       "      <td>1377786215501042</td>\n",
       "      <td>moral-inspiring</td>\n",
       "      <td>33</td>\n",
       "      <td>2018-08-17 10:28:18</td>\n",
       "      <td>2018-03-07 18:08:04</td>\n",
       "    </tr>\n",
       "    <tr>\n",
       "      <th>869198</th>\n",
       "      <td>-3385399971083633</td>\n",
       "      <td>1377786215658077</td>\n",
       "      <td>women</td>\n",
       "      <td>35</td>\n",
       "      <td>2018-08-17 10:28:18</td>\n",
       "      <td>2018-07-21 11:29:49</td>\n",
       "    </tr>\n",
       "    <tr>\n",
       "      <th>280836</th>\n",
       "      <td>-2270332352064718</td>\n",
       "      <td>1377786215576489</td>\n",
       "      <td>romance</td>\n",
       "      <td>75</td>\n",
       "      <td>2018-08-17 10:28:18</td>\n",
       "      <td>2018-05-31 12:27:14</td>\n",
       "    </tr>\n",
       "  </tbody>\n",
       "</table>\n",
       "<p>486693 rows × 6 columns</p>\n",
       "</div>"
      ],
      "text/plain": [
       "               author_id      pratilipi_id    category_name  reading_time  \\\n",
       "675638 -2270332321908144  1377786228384314     shortstories           196   \n",
       "951396 -2270332321908144  1377786228337492           horror           609   \n",
       "380204 -2270332350073525  1377786223457141          romance          1098   \n",
       "470867 -2270332330846786  1377786228376090          romance           450   \n",
       "459485 -2270332316902090  1377786227927658          romance            52   \n",
       "...                  ...               ...              ...           ...   \n",
       "278977 -4393454997796209   890664018679496          romance            10   \n",
       "181972 -2270332352652975  1377786215566100           family            15   \n",
       "473719 -2270332352705369  1377786215501042  moral-inspiring            33   \n",
       "869198 -3385399971083633  1377786215658077            women            35   \n",
       "280836 -2270332352064718  1377786215576489          romance            75   \n",
       "\n",
       "                 updated_at         published_at  \n",
       "675638  2022-03-23 21:39:34  2022-03-23 21:39:34  \n",
       "951396  2022-03-23 21:36:51  2022-03-20 22:21:25  \n",
       "380204  2022-03-23 21:35:39  2021-04-27 14:19:35  \n",
       "470867  2022-03-23 21:30:48  2022-03-23 21:30:48  \n",
       "459485  2022-03-23 21:01:21  2022-03-23 21:01:21  \n",
       "...                     ...                  ...  \n",
       "278977  2018-08-17 10:28:18  2017-11-11 16:30:26  \n",
       "181972  2018-08-17 10:28:18  2018-05-14 21:00:41  \n",
       "473719  2018-08-17 10:28:18  2018-03-07 18:08:04  \n",
       "869198  2018-08-17 10:28:18  2018-07-21 11:29:49  \n",
       "280836  2018-08-17 10:28:18  2018-05-31 12:27:14  \n",
       "\n",
       "[486693 rows x 6 columns]"
      ]
     },
     "execution_count": 4,
     "metadata": {},
     "output_type": "execute_result"
    }
   ],
   "source": [
    "# Creating new metadata Dataset having most recent updated time of each pratilipi\n",
    "new_metadata = metadata.drop_duplicates(subset='pratilipi_id', keep='first', inplace=False, ignore_index=False)\n",
    "new_metadata"
   ]
  },
  {
   "cell_type": "markdown",
   "id": "15fbda68",
   "metadata": {},
   "source": [
    "## Importing and preprocessing user-interactions"
   ]
  },
  {
   "cell_type": "code",
   "execution_count": 5,
   "id": "be32eaad",
   "metadata": {},
   "outputs": [],
   "source": [
    "interactions = pd.read_csv(\"ds-assignment/ds-assignment/user-interactions.csv\")\n",
    "\n",
    "# Sorting interactions based on updated_at\n",
    "interactions.sort_values(by='updated_at', ascending=True, inplace=True)\n",
    "\n",
    "# Dropping datetime type columns\n",
    "interactions.drop(columns=['updated_at'], inplace=True)"
   ]
  },
  {
   "cell_type": "markdown",
   "id": "f8cb0a9b",
   "metadata": {},
   "source": [
    "# Exploring data"
   ]
  },
  {
   "cell_type": "code",
   "execution_count": 6,
   "id": "3c8f298b",
   "metadata": {},
   "outputs": [
    {
     "name": "stdout",
     "output_type": "stream",
     "text": [
      "The total number of rows : 10000000\n",
      "The total number of columns : 4\n"
     ]
    }
   ],
   "source": [
    "# Shape of the data\n",
    "print('The total number of rows :', interactions.shape[0])\n",
    "print('The total number of columns :', interactions.shape[1])"
   ]
  },
  {
   "cell_type": "code",
   "execution_count": 7,
   "id": "91ac7ef4",
   "metadata": {},
   "outputs": [
    {
     "name": "stdout",
     "output_type": "stream",
     "text": [
      "Total unique users in the user-interactions 355988\n",
      "Total unique pratilipis in the user-interactions 373138\n"
     ]
    }
   ],
   "source": [
    "# Number of unique users and pratilipis\n",
    "print('Total unique users in the user-interactions', interactions['user_id'].nunique())\n",
    "print('Total unique pratilipis in the user-interactions', interactions['pratilipi_id'].nunique())"
   ]
  },
  {
   "cell_type": "code",
   "execution_count": 8,
   "id": "764b29ab",
   "metadata": {},
   "outputs": [
    {
     "data": {
      "text/plain": [
       "<AxesSubplot:>"
      ]
     },
     "execution_count": 8,
     "metadata": {},
     "output_type": "execute_result"
    },
    {
     "data": {
      "image/png": "[encoded data removed]",
      "text/plain": [
       "<Figure size 432x288 with 1 Axes>"
      ]
     },
     "metadata": {
      "needs_background": "light"
     },
     "output_type": "display_data"
    }
   ],
   "source": [
    "# Average number of stories read by user\n",
    "read_per_user = interactions.groupby('user_id')['read_percent'].count()\n",
    "statistics.mean(read_per_user.tolist())\n",
    "\n",
    "# Distribution of read_percent per user\n",
    "read_per_user.hist(bins=20, range=(0, 500))"
   ]
  },
  {
   "cell_type": "markdown",
   "id": "798d9401",
   "metadata": {},
   "source": [
    "**most users have read less than 100 stories**"
   ]
  },
  {
   "cell_type": "code",
   "execution_count": 9,
   "id": "0f14eae1",
   "metadata": {},
   "outputs": [
    {
     "data": {
      "text/plain": [
       "<AxesSubplot:>"
      ]
     },
     "execution_count": 9,
     "metadata": {},
     "output_type": "execute_result"
    },
    {
     "data": {
      "image/png": "[encoded data removed]",
      "text/plain": [
       "<Figure size 432x288 with 1 Axes>"
      ]
     },
     "metadata": {
      "needs_background": "light"
     },
     "output_type": "display_data"
    }
   ],
   "source": [
    "# Average number of users per story\n",
    "read_per_story = interactions.groupby('pratilipi_id')['read_percent'].count()\n",
    "statistics.mean(read_per_story.tolist())\n",
    "\n",
    "# Distribution of read_percent per story\n",
    "read_per_story.hist(bins=20, range=(0, 500))"
   ]
  },
  {
   "cell_type": "markdown",
   "id": "53650bc1",
   "metadata": {},
   "source": [
    "**most stories have less than 100 readers**"
   ]
  },
  {
   "cell_type": "markdown",
   "id": "5313651d",
   "metadata": {},
   "source": [
    "# Reducing Data"
   ]
  },
  {
   "cell_type": "code",
   "execution_count": 10,
   "id": "46ddc94f",
   "metadata": {},
   "outputs": [],
   "source": [
    "# counts of readers per story as a df\n",
    "read_per_story_df = pd.DataFrame(read_per_story)\n",
    "\n",
    "# remove if < 200 readers\n",
    "filtered_read_per_story_df = read_per_story_df[read_per_story_df.read_percent >= 200]\n",
    "\n",
    "# build a list of pratilipi_ids to keep\n",
    "popular_story = filtered_read_per_story_df.index.tolist()"
   ]
  },
  {
   "cell_type": "code",
   "execution_count": 11,
   "id": "73a3d359",
   "metadata": {},
   "outputs": [],
   "source": [
    "# counts of stories read per user as a df\n",
    "read_per_user_df = pd.DataFrame(read_per_user)\n",
    "\n",
    "# remove if < 225\n",
    "filtered_read_per_user_df = read_per_user_df[read_per_user_df.read_percent >= 225]\n",
    "\n",
    "# build a list of user_ids to keep\n",
    "prolific_users = filtered_read_per_user_df.index.tolist()"
   ]
  },
  {
   "cell_type": "code",
   "execution_count": 12,
   "id": "40c36581",
   "metadata": {},
   "outputs": [
    {
     "data": {
      "text/plain": [
       "2592314"
      ]
     },
     "execution_count": 12,
     "metadata": {},
     "output_type": "execute_result"
    }
   ],
   "source": [
    "# Filtering out stories and users not in these lists.\n",
    "filtered_interactions = interactions[interactions.pratilipi_id.isin(popular_story)]\n",
    "filtered_interactions = interactions[interactions.user_id.isin(prolific_users)]\n",
    "len(filtered_interactions)"
   ]
  },
  {
   "cell_type": "markdown",
   "id": "714a9306",
   "metadata": {},
   "source": [
    "**Reduced data by removing less interactive users and stories getting less number of readers**"
   ]
  },
  {
   "cell_type": "code",
   "execution_count": 13,
   "id": "eaf2a6e2",
   "metadata": {},
   "outputs": [
    {
     "data": {
      "text/plain": [
       "192851"
      ]
     },
     "execution_count": 13,
     "metadata": {},
     "output_type": "execute_result"
    }
   ],
   "source": [
    "l1 = set(new_metadata['pratilipi_id'])\n",
    "l2 = set(interactions['pratilipi_id'])\n",
    "len(l1.intersection(l2))"
   ]
  },
  {
   "cell_type": "code",
   "execution_count": 14,
   "id": "701e2de7",
   "metadata": {},
   "outputs": [
    {
     "data": {
      "text/plain": [
       "486693"
      ]
     },
     "execution_count": 14,
     "metadata": {},
     "output_type": "execute_result"
    }
   ],
   "source": [
    "len(metadata['pratilipi_id'].unique())"
   ]
  },
  {
   "cell_type": "code",
   "execution_count": 15,
   "id": "95f6c70e",
   "metadata": {},
   "outputs": [
    {
     "data": {
      "text/plain": [
       "373138"
      ]
     },
     "execution_count": 15,
     "metadata": {},
     "output_type": "execute_result"
    }
   ],
   "source": [
    "len(interactions['pratilipi_id'].unique())"
   ]
  },
  {
   "cell_type": "code",
   "execution_count": 16,
   "id": "341d095d",
   "metadata": {},
   "outputs": [
    {
     "name": "stderr",
     "output_type": "stream",
     "text": [
      "C:\\Users\\HARSHI~1.IN\\AppData\\Local\\Temp/ipykernel_41876/1451415105.py:1: DeprecationWarning: elementwise comparison failed; this will raise an error in the future.\n",
      "  interactions['pratilipi_id'].unique() in metadata['pratilipi_id'].unique()\n"
     ]
    },
    {
     "data": {
      "text/plain": [
       "False"
      ]
     },
     "execution_count": 16,
     "metadata": {},
     "output_type": "execute_result"
    }
   ],
   "source": [
    "interactions['pratilipi_id'].unique() in metadata['pratilipi_id'].unique()"
   ]
  },
  {
   "cell_type": "markdown",
   "id": "427cb09f",
   "metadata": {},
   "source": [
    "**This implies that all the pratilipi_ids present in interactions do not have their metadata.**"
   ]
  },
  {
   "cell_type": "markdown",
   "id": "eb5e06ab",
   "metadata": {},
   "source": [
    "# Collaborative Filtering"
   ]
  },
  {
   "cell_type": "markdown",
   "id": "f75295e1",
   "metadata": {},
   "source": [
    "We can use Collaborative Filtering based recommender system, which compares items or users for their similarity.\n",
    "For users, it attempts to find users with similar interests, and then recommends based on one user's interaction history to another.\n",
    "For items, it attemps to find most similar items, and then it recommends users other similar products"
   ]
  },
  {
   "cell_type": "code",
   "execution_count": 17,
   "id": "99c6e193",
   "metadata": {},
   "outputs": [],
   "source": [
    "from surprise import accuracy\n",
    "from surprise.model_selection.validation import cross_validate\n",
    "from surprise.dataset import Dataset\n",
    "from surprise.reader import Reader\n",
    "from surprise import SVD\n",
    "from surprise import KNNBasic\n",
    "from surprise import KNNWithMeans\n",
    "reader = Reader()\n",
    "surprise_data = Dataset.load_from_df(filtered_interactions[['user_id', 'pratilipi_id', 'read_percent']], reader)"
   ]
  },
  {
   "cell_type": "code",
   "execution_count": 18,
   "id": "b27a3268",
   "metadata": {},
   "outputs": [],
   "source": [
    "from surprise.model_selection import train_test_split\n",
    "trainset, testset = train_test_split(surprise_data, test_size=.25, shuffle=False)"
   ]
  },
  {
   "cell_type": "code",
   "execution_count": 19,
   "id": "dca2791b",
   "metadata": {},
   "outputs": [],
   "source": [
    "from collections import defaultdict\n",
    "\n",
    "def get_top_n(predictions, n):\n",
    "    # First map the predictions to each user.\n",
    "    top_n = defaultdict(list)\n",
    "    for uid, iid, true_r, est, _ in predictions:\n",
    "        top_n[uid].append((iid, est))\n",
    "\n",
    "    # Then sort the predictions for each user and retrieve the k highest ones.\n",
    "    for uid, user_ratings in top_n.items():\n",
    "        user_ratings.sort(key=lambda x: x[1], reverse=True)\n",
    "        top_n[uid] = user_ratings[:n]\n",
    "\n",
    "    return top_n"
   ]
  },
  {
   "cell_type": "code",
   "execution_count": 20,
   "id": "560a3cec",
   "metadata": {},
   "outputs": [],
   "source": [
    "class collab_filtering_based_recommender_model():\n",
    "    def __init__(self, model, trainset, testset, data):\n",
    "        self.model = model\n",
    "        self.trainset = trainset\n",
    "        self.testset = testset\n",
    "        self.data = data\n",
    "        self.pred_test = None\n",
    "        self.recommendations = None\n",
    "        self.top_n = None\n",
    "        self.recommenddf = None\n",
    "\n",
    "    def fit_and_predict(self):        \n",
    "        printmd('**Fitting the train data...**', color='brown')\n",
    "        self.model.fit(self.trainset)       \n",
    "\n",
    "        printmd('**Predicting the test data...**', color='brown')\n",
    "        self.pred_test = self.model.test(self.testset)        \n",
    "        rmse = round(accuracy.rmse(self.pred_test), 3)\n",
    "        printmd('**RMSE for the predicted result is ' + str(rmse) + '**', color='brown')   \n",
    "        \n",
    "        self.top_n = get_top_n(self.pred_test)\n",
    "        self.recommenddf = pd.DataFrame(columns=['userId', 'productId', 'Rating'])\n",
    "        for item in self.top_n:\n",
    "            subdf = pd.DataFrame(self.top_n[item], columns=['productId', 'Rating'])\n",
    "            subdf['userId'] = item\n",
    "            cols = subdf.columns.tolist()\n",
    "            cols = cols[-1:] + cols[:-1]\n",
    "            subdf = subdf[cols]        \n",
    "            self.recommenddf = pd.concat([self.recommenddf, subdf], axis = 0)        \n",
    "        return rmse\n",
    "        \n",
    "    def cross_validate(self):\n",
    "        printmd('**Cross Validating the data...**', color='brown')\n",
    "        cv_result = cross_validate(self.model, self.data, n_jobs=-1)\n",
    "        cv_result = round(cv_result['test_rmse'].mean(),3)\n",
    "        printmd('**Mean CV RMSE is ' + str(cv_result)  + '**', color='brown')\n",
    "        return cv_result\n",
    "\n",
    "    def recommend(self, user_id, n=5):\n",
    "        printmd('**Recommending top ' + str(n)+ ' products for userid : ' + user_id + ' ...**', color='brown')\n",
    "        \n",
    "        #df = pd.DataFrame(self.top_n[user_id], columns=['productId', 'Rating'])\n",
    "        #df['UserId'] = user_id\n",
    "        #cols = df.columns.tolist()\n",
    "        #cols = cols[-1:] + cols[:-1]\n",
    "        #df = df[cols].head(n)\n",
    "        df = self.recommenddf[self.recommenddf['userId'] == user_id].head(n)\n",
    "        display(df)\n",
    "        return df"
   ]
  },
  {
   "cell_type": "code",
   "execution_count": 21,
   "id": "413390eb",
   "metadata": {},
   "outputs": [],
   "source": [
    "from surprise.model_selection import RandomizedSearchCV\n",
    "\n",
    "def find_best_model(model, parameters,data):\n",
    "    clf = RandomizedSearchCV(model, parameters, n_jobs=-1, measures=['rmse'])\n",
    "    clf.fit(data)             \n",
    "    print(clf.best_score)\n",
    "    print(clf.best_params)\n",
    "    print(clf.best_estimator)\n",
    "    return clf"
   ]
  },
  {
   "cell_type": "code",
   "execution_count": null,
   "id": "d899c9ad",
   "metadata": {},
   "outputs": [],
   "source": [
    "sim_options = {\n",
    "    \"name\": [\"msd\", \"cosine\", \"pearson\", \"pearson_baseline\"],\n",
    "    \"min_support\": [3, 4, 5],\n",
    "    \"user_based\": [True],\n",
    "}\n",
    "params = { 'k': range(30,50,1), 'sim_options': sim_options}\n",
    "clf = find_best_model(KNNWithMeans, params, surprise_data)"
   ]
  },
  {
   "cell_type": "code",
   "execution_count": null,
   "id": "ff31e686",
   "metadata": {},
   "outputs": [],
   "source": [
    "knnwithmeans = clf.best_estimator['rmse']\n",
    "col_fil_knnwithmeans = collab_filtering_based_recommender_model(knnwithmeans, trainset, testset, surprise_data)\n",
    "\n",
    "knnwithmeans_rmse = col_fil_knnwithmeans.fit_and_predict()"
   ]
  },
  {
   "cell_type": "code",
   "execution_count": null,
   "id": "00dcb209",
   "metadata": {},
   "outputs": [],
   "source": [
    "params= {\n",
    "    \"n_epochs\": [5, 10, 15, 20],\n",
    "    \"lr_all\": [0.002, 0.005],\n",
    "    \"reg_all\": [0.4, 0.6]\n",
    "}\n",
    "clf = find_best_model(SVD, params, surprise_data)"
   ]
  },
  {
   "cell_type": "code",
   "execution_count": null,
   "id": "a88bda18",
   "metadata": {},
   "outputs": [],
   "source": [
    "svd = clf.best_estimator['rmse']\n",
    "col_fil_svd = collab_filtering_based_recommender_model(svd, trainset, testset, surprise_data)"
   ]
  }
 ],
 "metadata": {
  "kernelspec": {
   "display_name": "Python 3 (ipykernel)",
   "language": "python",
   "name": "python3"
  },
  "language_info": {
   "codemirror_mode": {
    "name": "ipython",
    "version": 3
   },
   "file_extension": ".py",
   "mimetype": "text/x-python",
   "name": "python",
   "nbconvert_exporter": "python",
   "pygments_lexer": "ipython3",
   "version": "3.9.7"
  }
 },
 "nbformat": 4,
 "nbformat_minor": 5
}
